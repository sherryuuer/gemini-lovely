{
 "cells": [
  {
   "cell_type": "code",
   "execution_count": 1,
   "id": "ad649f19-8277-442f-b311-668736e3a2ae",
   "metadata": {},
   "outputs": [],
   "source": [
    "# # set up in another way\n",
    "# import os\n",
    "# from dotenv import load_dotenv, find_dotenv\n",
    "# # load environment variables from .env file (containing API key)\n",
    "# load_dotenv(find_dotenv(), override=True)\n",
    "# import google.generativeai as genai  # Import library for Gemini Pro API\n",
    "\n",
    "# # function to generate a text response using Gemini Pro API\n",
    "# def generate_response(prompt, temperature=1):\n",
    "#     # configure API key\n",
    "#     genai.configure(api_key=os.environ.get('GOOGLE_API_KEY'))\n",
    "    \n",
    "#     # select the model with a generation configuration\n",
    "#     model = genai.GenerativeModel('gemini-pro')\n",
    "    \n",
    "#     generation_config = genai.types.GenerationConfig(\n",
    "#         temperature=temperature, top_p=1, top_k=1\n",
    "#     )\n",
    "#     # make an generation API call to Gemini\n",
    "#     response = model.generate_content(prompt, generation_config=generation_config)\n",
    "#     # return the text responsed\n",
    "#     return response.text"
   ]
  },
  {
   "cell_type": "code",
   "execution_count": 2,
   "id": "c508563b-753e-4d99-934c-f4a113abf78d",
   "metadata": {},
   "outputs": [],
   "source": [
    "import google.generativeai as genai  # Import library for Gemini Pro API\n",
    "\n",
    "# function to generate a text response using Gemini Pro API\n",
    "def generate_response(prompt, temperature=1):\n",
    "    # set up the key\n",
    "    with open('api_key.txt', 'r') as file:\n",
    "        api_key = file.read().strip()\n",
    "    genai.configure(api_key=api_key)\n",
    "    \n",
    "    # select the model with a generation configuration\n",
    "    model = genai.GenerativeModel('gemini-pro')\n",
    "    \n",
    "    generation_config = genai.types.GenerationConfig(\n",
    "        temperature=temperature, top_p=1, top_k=1\n",
    "    )\n",
    "    # make an generation API call to Gemini\n",
    "    response = model.generate_content(prompt, generation_config=generation_config)\n",
    "    # return the text responsed\n",
    "    return response.text"
   ]
  },
  {
   "cell_type": "markdown",
   "id": "4a867e88-4d28-49d6-9a9c-a78bc12aed2b",
   "metadata": {},
   "source": [
    "## Guidelines for effective prompting: Write clear and specific instructions (most important)"
   ]
  },
  {
   "cell_type": "code",
   "execution_count": 3,
   "id": "f5cec792-bdbe-4632-a458-5c42b5335253",
   "metadata": {},
   "outputs": [
    {
     "name": "stdout",
     "output_type": "stream",
     "text": [
      "Nanotechnology, by manipulating matter at the atomic and molecular scale, opens up new possibilities for addressing global challenges. In healthcare, nanoparticles allow for targeted drug delivery, increasing treatment effectiveness. Nanotechnology-based imaging techniques provide detailed cellular views, enhancing disease detection and monitoring.\n"
     ]
    }
   ],
   "source": [
    "text='''Embracing the atomic and molecular scale, nanotechnology stands as a transformative force, \n",
    "poised to reshape various industries and aspects of our lives. By manipulating matter at its most fundamental\n",
    "level, scientists and engineers are unlocking extraordinary properties, paving the way for innovative\n",
    "solutions to global challenges.\n",
    "In the healthcare domain, nanotechnology promises to revolutionize diagnostic and therapeutic approaches.\n",
    "Nanoparticles, tiny marvels measuring just a few nanometers in diameter, hold immense potential for targeted\n",
    "drug delivery. By skillfully engineering these particles, scientists can effectively transport therapeutic\n",
    "agents directly to diseased tissues, minimizing side effects and enhancing treatment efficacy.\n",
    "Additionally, nanotechnology-based imaging techniques provide unprecedented levels of cellular detail,\n",
    "enabling early detection and monitoring of diseases, transforming disease management and improving\n",
    "patient outcomes.'''\n",
    "\n",
    "prompt = f'''\n",
    "Summarize this text: {text}\n",
    "'''\n",
    "output = generate_response(prompt)\n",
    "print(output)"
   ]
  },
  {
   "cell_type": "markdown",
   "id": "8001956a-22db-4390-99bd-6b5186c1b972",
   "metadata": {
    "jp-MarkdownHeadingCollapsed": true
   },
   "source": [
    "### #1 - Put instructions **at the beginning** of the prompt, each on their own line, and use delimiters to **clearly indicate distinct parts** of the prompt.\n",
    "\n",
    "Delimiters: **```, \"\"\", {}**"
   ]
  },
  {
   "cell_type": "code",
   "execution_count": 4,
   "id": "6bbf6a3e-186e-4283-8d67-afbbb7accf36",
   "metadata": {},
   "outputs": [
    {
     "name": "stdout",
     "output_type": "stream",
     "text": [
      "**Summary:**\n",
      "\n",
      "Nanotechnology is revolutionizing various industries by manipulating matter at the atomic and molecular level. In healthcare, nanotechnology promises groundbreaking advancements in diagnosis and therapy, enabling targeted drug delivery and enhanced imaging capabilities for improved disease management and patient outcomes.\n",
      "\n",
      "**German Translation:**\n",
      "\n",
      "Die Nanotechnologie, die sich mit dem atomaren und molekularen Maßstab befasst, ist eine transformative Kraft, die verschiedene Branchen und Aspekte unseres Lebens umgestalten wird. Durch die Manipulation von Materie auf ihrer grundlegendsten Ebene erschließen Wissenschaftler und Ingenieure außergewöhnliche Eigenschaften und ebnen den Weg für innovative Lösungen globaler Herausforderungen.\n",
      "Im Bereich des Gesundheitswesens verspricht die Nanotechnologie revolutionäre diagnostische und therapeutische Ansätze. Nanopartikel, winzige Wunder von nur wenigen Nanometern Durchmesser, bergen ein immenses Potenzial für eine gezielte Arzneimittelverabreichung. Durch die geschickte Entwicklung dieser Partikel können Wissenschaftler therapeutische Wirkstoffe effektiv direkt in erkrankte Gewebe transportieren, was die Nebenwirkungen minimiert und die Behandlungseffektivität erhöht.\n",
      "Darüber hinaus bieten nanotechnologiebasierte Bildgebungstechniken eine beispiellose Detailauflösung von Zellen, was eine Früherkennung und Überwachung von Krankheiten ermöglicht, das Krankheitsmanagement transformiert und die Ergebnisse für Patienten verbessert.\n"
     ]
    }
   ],
   "source": [
    "prompt = f'''\n",
    "Summarize the text delimited by triple backtics.\n",
    "Translate the summary from English to German.\n",
    "Text: ```{text}```\n",
    "'''\n",
    "output = generate_response(prompt)\n",
    "print(output)"
   ]
  },
  {
   "cell_type": "markdown",
   "id": "73c3148e-8bb1-424a-970b-b6ca72a9a892",
   "metadata": {
    "jp-MarkdownHeadingCollapsed": true
   },
   "source": [
    "### #2- Be **specific, descriptive and as detailed as possible** about the desired outcome, format or length."
   ]
  },
  {
   "cell_type": "code",
   "execution_count": 5,
   "id": "3c796c91-73aa-4c16-978a-82d46781af84",
   "metadata": {},
   "outputs": [
    {
     "name": "stdout",
     "output_type": "stream",
     "text": [
      "Nanotechnology revolutionizes industries by manipulating matter at the atomic scale, unlocking extraordinary properties. In healthcare, it enables targeted drug delivery via nanoparticles, and enhances imaging techniques for early disease detection and improved patient outcomes.\n"
     ]
    }
   ],
   "source": [
    "prompt = f'''\n",
    "Summarize the text delimited by triple backtics in at most 40 words.\n",
    "Text: ```{text}```\n",
    "'''\n",
    "output = generate_response(prompt)\n",
    "print(output)"
   ]
  },
  {
   "cell_type": "code",
   "execution_count": 6,
   "id": "1b8432a4-8e67-40c0-b6d3-8824f03797cc",
   "metadata": {},
   "outputs": [
    {
     "name": "stdout",
     "output_type": "stream",
     "text": [
      "Summary length in words: 34\n"
     ]
    }
   ],
   "source": [
    "print(f'Summary length in words: {len(output.split())}')"
   ]
  },
  {
   "cell_type": "code",
   "execution_count": 7,
   "id": "e262788f-f681-467c-9f17-db06bf66022c",
   "metadata": {},
   "outputs": [
    {
     "name": "stdout",
     "output_type": "stream",
     "text": [
      "Nanotechnology, utilizing manipulation at the atomic and molecular scale, holds transformative potential across industries. Its key applications include:\n",
      "\n",
      "- Advanced drug delivery through targeted nanoparticles for enhanced efficacy and reduced side effects\n",
      "- Improved disease detection and monitoring via high-resolution nanotechnology-based imaging techniques\n",
      "\n",
      "Ultimately, nanotechnology empowers scientists and engineers to engineer matter at its core, unlocking innovative solutions for global healthcare challenges.\n"
     ]
    }
   ],
   "source": [
    "prompt = f'''\n",
    "Summarize the text delimited by triple backtics.\n",
    "Begin the summary with an introductory sentence, followed by a bulleted list highlighting the key points.\n",
    "Conclude the summary with a sentence that synthesizes the central idea of the entire text.\n",
    "Text: ```{text}```\n",
    "'''\n",
    "output = generate_response(prompt)\n",
    "print(output)"
   ]
  },
  {
   "cell_type": "code",
   "execution_count": 8,
   "id": "a3fbbfa6-978d-4dfd-b713-06c7d9a6f507",
   "metadata": {},
   "outputs": [
    {
     "name": "stdout",
     "output_type": "stream",
     "text": [
      "```python\n",
      "def read_text_file(file_name):\n",
      "  \"\"\"Reads a text file and returns its contents.\n",
      "\n",
      "  Args:\n",
      "    file_name: The name of the file to read.\n",
      "\n",
      "  Returns:\n",
      "    The contents of the file.\n",
      "  \"\"\"\n",
      "\n",
      "  with open(file_name, \"r\") as f:\n",
      "    return f.read()\n",
      "```\n"
     ]
    }
   ],
   "source": [
    "# good prompt\n",
    "prompt = 'Code to read a text file.'\n",
    "output = generate_response(prompt)\n",
    "print(output)"
   ]
  },
  {
   "cell_type": "code",
   "execution_count": 9,
   "id": "072280b2-ea5f-4eac-8f86-98bd422dae41",
   "metadata": {},
   "outputs": [
    {
     "name": "stdin",
     "output_type": "stream",
     "text": [
      "Enter programming language:  Python\n"
     ]
    },
    {
     "name": "stdout",
     "output_type": "stream",
     "text": [
      "```python\n",
      "def read_file_content(file_path):\n",
      "    \"\"\"Reads the content of a file and returns it as a string.\n",
      "\n",
      "    Args:\n",
      "        file_path (str): The path to the file to read.\n",
      "\n",
      "    Returns:\n",
      "        str or None: The content of the file, or None if the file was not found.\n",
      "    \"\"\"\n",
      "\n",
      "    try:\n",
      "        with open(file_path, \"r\") as f:\n",
      "            content = f.read()\n",
      "        return content\n",
      "    except FileNotFoundError:\n",
      "        print(f\"Error: File not found at {file_path}\")\n",
      "        return None\n",
      "```\n"
     ]
    }
   ],
   "source": [
    "# better prompt\n",
    "language = input('Enter programming language: ')\n",
    "prompt = f'''Generate a concise and well-formatted {language} function that:\n",
    "1. Takes a file path as input.\n",
    "2. Checks if the file exists at the specified path.\n",
    "3. Reads the file's content as a string.\n",
    "4. Returns the file content, or an appropriate error message if the file is not found.\n",
    "\n",
    "Ensure the function includes:\n",
    "- Clear, concise and idiomatic variable names.\n",
    "- Meaningful comments to explain the code's logic.\n",
    "- A descriptive docstring that outlines the function's purpose, parameters, and return value.\n",
    "\n",
    "Adhere to {language} best practices for readability and maintainability.\n",
    "'''\n",
    "output = generate_response(prompt)\n",
    "print(output)"
   ]
  },
  {
   "cell_type": "markdown",
   "id": "2d83a288-89ee-4f6c-a069-0fcdd8fbea6c",
   "metadata": {
    "jp-MarkdownHeadingCollapsed": true
   },
   "source": [
    "### #3 - Specify the response format."
   ]
  },
  {
   "cell_type": "code",
   "execution_count": 10,
   "id": "709cef3b-d62e-49e5-8ac5-18e5fea34456",
   "metadata": {},
   "outputs": [
    {
     "name": "stdout",
     "output_type": "stream",
     "text": [
      "```html\n",
      "<!DOCTYPE html>\n",
      "<html>\n",
      "\n",
      "<head>\n",
      "  <meta charset=\"UTF-8\" />\n",
      "  <title>An Icon of Inspiration: Nelson Mandela</title>\n",
      "</head>\n",
      "\n",
      "<body>\n",
      "  <h1>An Icon of Inspiration: Nelson Mandela</h1>\n",
      "\n",
      "  <p>Introduction:</p>\n",
      "  <p>Throughout history, certain figures emerge as beacons of hope, resilience, and change. Among them, Nelson Mandela stands tall as a towering giant, an emblem of unwavering determination and the indomitable spirit of humanity. His journey from imprisoned activist to revered statesman has inspired generations, making him one of the most iconic positive figures of the last century.</p>\n",
      "\n",
      "  <p>Main Part:</p>\n",
      "  <p>Born in 1918 in a rural village in South Africa, Mandela's life unfolded against the backdrop of the oppressive apartheid regime. Despite facing unimaginable challenges and imprisonment for over 27 years, he refused to succumb to despair. With unwavering conviction, he became a symbol of the anti-apartheid movement, embodying the struggle for justice and equality.</p>\n",
      "\n",
      "  <p>After his release in 1990 and the eventual dismantling of apartheid, Mandela's commitment to reconciliation and forgiveness astonished the world. As South Africa's first democratically elected president, he worked tirelessly to bridge racial divides, heal wounds, and foster a unified nation. His legacy extends beyond his political achievements, encompassing his unwavering advocacy for peace, education, and human rights.</p>\n",
      "\n",
      "  <p>Interesting Facts:</p>\n",
      "  <ul>\n",
      "    <li>Mandela was an accomplished boxer during his youth, earning the nickname \"The Black Pimpernel.\"</li>\n",
      "    <li>He spent over half of his life in prison, but continued to lead the anti-apartheid movement from behind bars.</li>\n",
      "    <li>Upon his release, Mandela became the oldest person ever elected president of South Africa.</li>\n",
      "  </ul>\n",
      "\n",
      "  <p>Summary:</p>\n",
      "  <p>Nelson Mandela's life was a testament to the transformative power of hope, resilience, and the unwavering belief in the equality of all people. His journey from prisoner to president, from victim to peacemaker, serves as an eternal reminder that even amidst adversity, the human spirit can prevail. The enduring legacy of Nelson Mandela continues to inspire and motivate countless individuals around the globe, reminding us of our shared humanity and the importance of working together for a just and equitable world.</p>\n",
      "</body>\n",
      "\n",
      "</html>\n",
      "```\n"
     ]
    }
   ],
   "source": [
    "format = 'HTML 5'\n",
    "prompt = f'''\n",
    "Craft a captivating blog post about one emblematic and positive figure of the last century.\n",
    "Give it a title and limit the blog post to 5 paragraphs.\n",
    "Format the output as {format}\n",
    "\n",
    "Ensure the blog post includes:\n",
    "- an introduction, a main part and a summary.\n",
    "- emphasize clear and engaging writing, suitable for a general audience.\n",
    "- ensure factual accuracy and respectful representation of historical events and figures.\n",
    "- include interesting facts that pique users' curiosity.\n",
    "- avoid biased opinions.\n",
    "'''\n",
    "output = generate_response(prompt)\n",
    "print(output)"
   ]
  },
  {
   "cell_type": "code",
   "execution_count": 11,
   "id": "d859ee6d-808f-4c04-a450-c6392050467d",
   "metadata": {},
   "outputs": [
    {
     "data": {
      "text/html": [
       "```html\n",
       "<!DOCTYPE html>\n",
       "<html>\n",
       "\n",
       "<head>\n",
       "  <meta charset=\"UTF-8\" />\n",
       "  <title>An Icon of Inspiration: Nelson Mandela</title>\n",
       "</head>\n",
       "\n",
       "<body>\n",
       "  <h1>An Icon of Inspiration: Nelson Mandela</h1>\n",
       "\n",
       "  <p>Introduction:</p>\n",
       "  <p>Throughout history, certain figures emerge as beacons of hope, resilience, and change. Among them, Nelson Mandela stands tall as a towering giant, an emblem of unwavering determination and the indomitable spirit of humanity. His journey from imprisoned activist to revered statesman has inspired generations, making him one of the most iconic positive figures of the last century.</p>\n",
       "\n",
       "  <p>Main Part:</p>\n",
       "  <p>Born in 1918 in a rural village in South Africa, Mandela's life unfolded against the backdrop of the oppressive apartheid regime. Despite facing unimaginable challenges and imprisonment for over 27 years, he refused to succumb to despair. With unwavering conviction, he became a symbol of the anti-apartheid movement, embodying the struggle for justice and equality.</p>\n",
       "\n",
       "  <p>After his release in 1990 and the eventual dismantling of apartheid, Mandela's commitment to reconciliation and forgiveness astonished the world. As South Africa's first democratically elected president, he worked tirelessly to bridge racial divides, heal wounds, and foster a unified nation. His legacy extends beyond his political achievements, encompassing his unwavering advocacy for peace, education, and human rights.</p>\n",
       "\n",
       "  <p>Interesting Facts:</p>\n",
       "  <ul>\n",
       "    <li>Mandela was an accomplished boxer during his youth, earning the nickname \"The Black Pimpernel.\"</li>\n",
       "    <li>He spent over half of his life in prison, but continued to lead the anti-apartheid movement from behind bars.</li>\n",
       "    <li>Upon his release, Mandela became the oldest person ever elected president of South Africa.</li>\n",
       "  </ul>\n",
       "\n",
       "  <p>Summary:</p>\n",
       "  <p>Nelson Mandela's life was a testament to the transformative power of hope, resilience, and the unwavering belief in the equality of all people. His journey from prisoner to president, from victim to peacemaker, serves as an eternal reminder that even amidst adversity, the human spirit can prevail. The enduring legacy of Nelson Mandela continues to inspire and motivate countless individuals around the globe, reminding us of our shared humanity and the importance of working together for a just and equitable world.</p>\n",
       "</body>\n",
       "\n",
       "</html>\n",
       "```"
      ],
      "text/plain": [
       "<IPython.core.display.HTML object>"
      ]
     },
     "metadata": {},
     "output_type": "display_data"
    }
   ],
   "source": [
    "from IPython.display import display, HTML\n",
    "display(HTML(output))"
   ]
  },
  {
   "cell_type": "code",
   "execution_count": 12,
   "id": "8ae8da2e-7dd7-45bd-8b36-fd2630b45d44",
   "metadata": {},
   "outputs": [
    {
     "name": "stdout",
     "output_type": "stream",
     "text": [
      "**I. Introduction**\n",
      "    A. Hook: Begin with a captivating statement or anecdote about Japan's rich history.\n",
      "    B. Thesis statement: Present the main argument of the essay, tracing the key historical events that have shaped Japan.\n",
      "\n",
      "**II. Ancient Japan (c. 300 BCE - 794 CE)**\n",
      "    A. Yayoi period (c. 300 BCE - 250 CE): Introduction of wet-rice cultivation and the formation of early societies.\n",
      "    B. Kofun period (250 - 538 CE): Emergence of powerful clans and the construction of elaborate burial mounds.\n",
      "    C. Asuka period (538 - 592 CE): Buddhism's arrival in Japan and the establishment of centralized rule by Prince Shotoku.\n",
      "    D. Nara period (710 - 794 CE): Establishment of a centralized bureaucracy and the Nara Empire's golden age of Buddhism and art.\n",
      "\n",
      "**III. Heian Japan (794 - 1185 CE)**\n",
      "    A. Heian period (794 - 1185 CE): The imperial court's move to Kyoto and the flourishing of court culture.\n",
      "    B. Fujiwara regency: The powerful Fujiwara clan dominated the court and ruled on behalf of the emperors.\n",
      "    C. Genpei War (1180 - 1185 CE): Conflict between the Minamoto and Taira clans, leading to the rise of the samurai class.\n",
      "\n",
      "**IV. Medieval Japan (1185 - 1603 CE)**\n",
      "    A. Kamakura period (1185 - 1333 CE): Establishment of the Kamakura shogunate by Minamoto Yoritomo and the rise of feudalism.\n",
      "    B. Mongol invasions (1274, 1281 CE): Unsuccessful attempts by the Mongols to conquer Japan.\n",
      "    C. Muromachi period (1333 - 1573 CE): Weakening of the shogunate and the rise of regional warlords.\n",
      "    D. Sengoku period (1467 - 1603 CE): Era of civil war and chaos, marked by the emergence of powerful daimyo.\n",
      "\n",
      "**V. Early Modern Japan (1603 - 1868 CE)**\n",
      "    A. Edo period (1603 - 1868 CE): Establishment of the Tokugawa shogunate and a period of relative peace and stability.\n",
      "    B. Isolation policy (sakoku): Japan's closure to foreign influence, except for limited trade with China and the Netherlands.\n",
      "    C. Meiji Restoration (1868 CE): End of the shogunate and the beginning of a period of rapid modernization and Westernization.\n",
      "\n",
      "**VI. Modern Japan (1868 CE - Present)**\n",
      "    A. Meiji period (1868 - 1912 CE): Major industrial, social, and political transformations, including the adoption of a constitutional monarchy.\n",
      "    B. Taisho period (1912 - 1926 CE): Economic growth and cultural liberalization, leading to the development of Japan's democratic institutions.\n",
      "    C. Showa period (1926 - 1989 CE): Rise of militarism and expansionism, followed by Japan's involvement in World War II and its eventual recovery and economic miracle.\n",
      "    D. Heisei period (1989 - 2019 CE): Economic challenges and a period of relative political stability.\n",
      "    E. Reiwa period (2019 - Present): The current era under Emperor Naruhito, marked by challenges such as the COVID-19 pandemic.\n",
      "\n",
      "**VII. Conclusion**\n",
      "    A. Summarize the key historical events that have shaped Japan's history.\n",
      "    B. Reiterate the thesis statement and discuss the enduring legacy of Japan's past.\n",
      "    C. End with a thought-provoking statement or call to action.\n"
     ]
    }
   ],
   "source": [
    "prompt = '''\n",
    "Create an outline for an Essay about the History of the Japan.\n",
    "'''\n",
    "output = generate_response(prompt)\n",
    "print(output)"
   ]
  },
  {
   "cell_type": "code",
   "execution_count": 13,
   "id": "7178bfb9-caff-4aa8-80fb-2adfa5d2b43b",
   "metadata": {},
   "outputs": [
    {
     "name": "stdout",
     "output_type": "stream",
     "text": [
      "**Outline: History of Japan**\n",
      "\n",
      "**I. Introduction**\n",
      "    A. Japan's origins and geographical isolation\n",
      "    B. The Yayoi and Kofun Periods (300 BC - 538 AD)\n",
      "        1. Introduction of rice cultivation and metalworking\n",
      "        2. Emergence of centralized leadership\n",
      "\n",
      "**II. Classical Period: Nara and Heian Eras (538 - 1185 AD)**\n",
      "    A. Nara Period (538 - 794 AD)\n",
      "        1. Strong Buddhist influence\n",
      "        2. Establishment of the imperial capital at Nara\n",
      "        3. Introduction of Chinese culture and bureaucracy\n",
      "    B. Heian Period (794 - 1185 AD)\n",
      "        1. Emergence of aristocratic society\n",
      "        2. Development of classical Japanese literature and art\n",
      "\n",
      "**III. Medieval Period: Kamakura and Muromachi Eras (1185 - 1603 AD)**\n",
      "    A. Kamakura Period (1185 - 1333 AD)\n",
      "        1. Establishment of military government by samurai clans (shogunate)\n",
      "        2. Mongol invasions and their impact on Japan\n",
      "    B. Muromachi Period (1336 - 1573 AD)\n",
      "        1. Decline of central authority and rise of local warlords (daimyo)\n",
      "        2. Introduction of Zen Buddhism and new artistic styles\n",
      "\n",
      "**IV. Early Modern Period: Edo Period (1603 - 1868 AD)**\n",
      "    A. The Tokugawa Shogunate\n",
      "        1. Unification of Japan under military rule\n",
      "        2. Implementation of strict social hierarchy and seclusion policy (sakoku)\n",
      "    B. Cultural and Economic Development\n",
      "        1. Flourishing of arts, music, and kabuki theater\n",
      "        2. Growth of trade and urbanization\n",
      "\n",
      "**V. Modern Period: Meiji Restoration and Beyond (1868 - Present)**\n",
      "    A. Meiji Restoration (1868)\n",
      "        1. Overthrow of the shogunate and restoration of imperial rule\n",
      "        2. Rapid modernization and Westernization\n",
      "    B. Industrialization and Military Expansion\n",
      "        1. Development of heavy industry and shipbuilding capabilities\n",
      "        2. Expansion into Korea and Taiwan\n",
      "    C. World War II and Postwar Recovery\n",
      "        1. Japan's role in the war and its defeat\n",
      "        2. American occupation and post-war reconstruction\n",
      "    D. Economic Miracle and Global Standing\n",
      "        1. Post-war economic recovery and emergence as a global economic powerhouse\n",
      "        2. Japan's role in international affairs and its cultural contributions\n"
     ]
    }
   ],
   "source": [
    "prompt = '''\n",
    "Create an outline for an Essay about the History of the Japan.\n",
    "I. Introduction\n",
    "    A.\n",
    "        1.\n",
    "    B.\n",
    "        1.\n",
    "'''\n",
    "output = generate_response(prompt)\n",
    "print(output)"
   ]
  },
  {
   "cell_type": "code",
   "execution_count": 14,
   "id": "16c4ecba-b796-4842-80a1-cdfac623934e",
   "metadata": {},
   "outputs": [
    {
     "name": "stdout",
     "output_type": "stream",
     "text": [
      "```json\n",
      "{\n",
      "  \"countries\": [\n",
      "    {\n",
      "      \"name\": \"Russia\",\n",
      "      \"area\": 17,075,400\n",
      "    },\n",
      "    {\n",
      "      \"name\": \"Canada\",\n",
      "      \"area\": 9,984,670\n",
      "    },\n",
      "    {\n",
      "      \"name\": \"China\",\n",
      "      \"area\": 9,596,960\n",
      "    }\n",
      "  ]\n",
      "}\n",
      "```\n"
     ]
    }
   ],
   "source": [
    "prompt = '''\n",
    "List the top 3 countries by total area in the world.\n",
    "JSON:\n",
    "'''\n",
    "output = generate_response(prompt)\n",
    "print(output)"
   ]
  },
  {
   "cell_type": "markdown",
   "id": "fd859762-ea67-420d-a873-96d8cdad5910",
   "metadata": {
    "jp-MarkdownHeadingCollapsed": true
   },
   "source": [
    "### #4 - Few-Shot Prompting\n",
    "\n",
    "**Few-Shot Prompting**  provides a small number of examples to guide the language model."
   ]
  },
  {
   "cell_type": "code",
   "execution_count": 15,
   "id": "791e9b6b-777e-4648-b8e3-733464044785",
   "metadata": {},
   "outputs": [
    {
     "name": "stdout",
     "output_type": "stream",
     "text": [
      "Scattering of sunlight by molecules in the atmosphere.\n"
     ]
    }
   ],
   "source": [
    "prompt = '''\n",
    "User: What is the cause of earthquakes?\n",
    "Model: Sudden release of energy in the Earth's crust.\n",
    "\n",
    "User: Whey is the sky blu?\n",
    "Model:\n",
    "'''\n",
    "output = generate_response(prompt)\n",
    "print(output)"
   ]
  },
  {
   "cell_type": "code",
   "execution_count": 16,
   "id": "a1e30ad4-839e-4cc0-93d3-55cc92eccc46",
   "metadata": {},
   "outputs": [
    {
     "name": "stdout",
     "output_type": "stream",
     "text": [
      "A gateway to knowledge, information's endless tide, Google's fingers reach, wherever you reside.\n"
     ]
    }
   ],
   "source": [
    "prompt = '''\n",
    "User: Tell me something about the Moon.\n",
    "Model: A silver coin spun by the cosmos, forever orbiting between dreams and dawn.\n",
    "\n",
    "User: Tell me something about Google.\n",
    "Model:\n",
    "'''\n",
    "output = generate_response(prompt)\n",
    "print(output)"
   ]
  },
  {
   "cell_type": "markdown",
   "id": "a4f3dd35-94df-4ddb-9f2b-2f7031209bab",
   "metadata": {
    "jp-MarkdownHeadingCollapsed": true
   },
   "source": [
    "### #5 - Specify the steps required to complete a task"
   ]
  },
  {
   "cell_type": "code",
   "execution_count": 17,
   "id": "e4b3e5f9-7078-4a8c-be3f-3b9679b7fa51",
   "metadata": {},
   "outputs": [
    {
     "name": "stdout",
     "output_type": "stream",
     "text": [
      "Mia, a shy and introverted girl, found solace in Gemi, an advanced AI programmed to be her constant companion. When Mia's social anxiety threatened to isolate her at a party, Gemi discreetly analyzed the attendees, providing her with confidence-boosting suggestions. With Gemi's help, Mia gradually stepped out of her shell, engaging in conversations and making new connections, proving that even in the face of social challenges, human-AI bonds could blossom and empower.\n"
     ]
    }
   ],
   "source": [
    "prompt = '''\n",
    "Write a short story about a girl and her AI friend named Gemi in five sentences.\n",
    "\n",
    "Follow these steps:\n",
    "1. Introduce the main characters and the setting in the first sentence.\n",
    "2. Describe the conflict or the problem that the characters face in the second sentence.\n",
    "3. Show how the characters try to solve the problem or overcome the conflict in the third and fourth sentences.\n",
    "4. Write the resolution or the outcome of the story in the fifth sentence.\n",
    "'''\n",
    "output = generate_response(prompt)\n",
    "print(output)"
   ]
  },
  {
   "cell_type": "code",
   "execution_count": 18,
   "id": "8356d30f-1366-4cf1-b7fd-2543be4181e9",
   "metadata": {},
   "outputs": [
    {
     "name": "stdout",
     "output_type": "stream",
     "text": [
      "**Breakfast**\n",
      "\n",
      "* Oatmeal with banana, nuts, and a sprinkle of cinnamon\n",
      "* Scrambled eggs with sautéed vegetables (such as spinach, mushrooms, or onions)\n",
      "* Whole-wheat toast with avocado and a side of Greek yogurt\n",
      "\n",
      "**Lunch**\n",
      "\n",
      "* Salad with grilled chicken, vegetables, and a light dressing made with olive oil and lemon juice\n",
      "* Sandwich on whole-wheat bread with chicken, vegetables, and cheese\n",
      "* Leftover chicken with brown rice and steamed vegetables\n",
      "\n",
      "**Dinner**\n",
      "\n",
      "* Grilled chicken with roasted vegetables (such as broccoli, carrots, or sweet potatoes) and brown rice\n",
      "* Salmon with quinoa and a side of steamed asparagus\n",
      "* Chicken stir-fry with mixed vegetables and rice\n"
     ]
    }
   ],
   "source": [
    "ingredients = '''chicken, vegetables, rice, dairy products, nuts, fruits (apples and bananas),\n",
    "avocado, salads, bread, butter, olive oil'''\n",
    "prompt = f'''\n",
    "Craft a healthy daily meal plan for breakfat, lunch and dinner using these ingredients: ```{ingredients}```.\n",
    "'''\n",
    "output = generate_response(prompt)\n",
    "print(output)"
   ]
  },
  {
   "cell_type": "code",
   "execution_count": 19,
   "id": "11cc4df8-87af-4951-b87a-269d36f137b1",
   "metadata": {},
   "outputs": [
    {
     "data": {
      "text/html": [
       "```html\n",
       "<!DOCTYPE html>\n",
       "<html>\n",
       "<head>\n",
       "  <title>Healthy Daily Meal Plan</title>\n",
       "  <style>\n",
       "    body {\n",
       "      font-family: Arial, Helvetica, sans-serif;\n",
       "      line-height: 1.5em;\n",
       "    }\n",
       "\n",
       "    h1 {\n",
       "      font-size: 1.5em;\n",
       "      margin-bottom: 10px;\n",
       "    }\n",
       "\n",
       "    h2 {\n",
       "      font-size: 1.2em;\n",
       "      margin-bottom: 5px;\n",
       "    }\n",
       "\n",
       "    ul {\n",
       "      list-style-type: none;\n",
       "      padding: 0;\n",
       "    }\n",
       "\n",
       "    li {\n",
       "      margin-bottom: 5px;\n",
       "    }\n",
       "\n",
       "    .calorie-count {\n",
       "      font-weight: bold;\n",
       "    }\n",
       "  </style>\n",
       "</head>\n",
       "<body>\n",
       "  <h1>Healthy Daily Meal Plan</h1>\n",
       "\n",
       "  <h2>Breakfast</h2>\n",
       "  <h3>Savory Oatmeal with Chicken and Vegetables</h3>\n",
       "  <ul>\n",
       "    <li>1/2 cup rolled oats</li>\n",
       "    <li>1 cup water or milk</li>\n",
       "    <li>1/4 cup chopped chicken</li>\n",
       "    <li>1/4 cup chopped vegetables (such as bell pepper, onion, or zucchini)</li>\n",
       "    <li>Salt and pepper to taste</li>\n",
       "  </ul>\n",
       "  <ol>\n",
       "    <li>Cook the oats according to the package directions.</li>\n",
       "    <li>While the oats are cooking, sauté the chicken and vegetables in a pan until cooked through.</li>\n",
       "    <li>Add the cooked chicken and vegetables to the oatmeal.</li>\n",
       "    <li>Season with salt and pepper to taste.</li>\n",
       "  </ol>\n",
       "  <p class=\"calorie-count\">Total calories: 300</p>\n",
       "\n",
       "  <hr>\n",
       "\n",
       "  <h2>Lunch</h2>\n",
       "  <h3>Grilled Chicken Salad with Avocado and Nuts</h3>\n",
       "  <ul>\n",
       "    <li>1 cup mixed salad greens</li>\n",
       "    <li>1/2 grilled chicken breast, sliced</li>\n",
       "    <li>1/2 avocado, sliced</li>\n",
       "    <li>1/4 cup chopped nuts (such as almonds or walnuts)</li>\n",
       "    <li>2 tablespoons olive oil</li>\n",
       "    <li>1 tablespoon balsamic vinegar</li>\n",
       "    <li>Salt and pepper to taste</li>\n",
       "  </ul>\n",
       "  <ol>\n",
       "    <li>Combine the salad greens, chicken, avocado, and nuts in a bowl.</li>\n",
       "    <li>Whisk together the olive oil, balsamic vinegar, salt, and pepper in a small bowl.</li>\n",
       "    <li>Drizzle the dressing over the salad and toss to coat.</li>\n",
       "  </ol>\n",
       "  <p class=\"calorie-count\">Total calories: 400</p>\n",
       "\n",
       "  <hr>\n",
       "\n",
       "  <h2>Dinner</h2>\n",
       "  <h3>Pan-Seared Salmon with Roasted Vegetables and Brown Rice</h3>\n",
       "  <ul>\n",
       "    <li>4 ounces salmon fillet</li>\n",
       "    <li>1 cup roasted vegetables (such as broccoli, carrots, or potatoes)</li>\n",
       "    <li>1/2 cup cooked brown rice</li>\n",
       "    <li>1 tablespoon olive oil</li>\n",
       "    <li>Salt and pepper to taste</li>\n",
       "  </ul>\n",
       "  <ol>\n",
       "    <li>Heat the olive oil in a pan over medium heat.</li>\n",
       "    <li>Season the salmon with salt and pepper.</li>\n",
       "    <li>Sear the salmon in the pan for 3-4 minutes per side, or until cooked through.</li>\n",
       "    <li>Serve the salmon with the roasted vegetables and brown rice.</li>\n",
       "  </ol>\n",
       "  <p class=\"calorie-count\">Total calories: 500</p>\n",
       "</body>\n",
       "</html>\n",
       "```"
      ],
      "text/plain": [
       "<IPython.core.display.HTML object>"
      ]
     },
     "metadata": {},
     "output_type": "display_data"
    }
   ],
   "source": [
    "output_format = 'HTML 5 with CSS'\n",
    "kcal = 2000\n",
    "prompt = f'''\n",
    "Craft a healthy daily meal plan for breakfast, lunch, and dinner\n",
    "using the following ingredients: `{ingredients}`.\n",
    "\n",
    "Follow these instructions carefully:\n",
    "### Instructions:\n",
    "1. Utilize ONLY the provided ingredients, along with salt, pepper, and spices.\n",
    "2. Clearly state the exact amount of each ingredient.\n",
    "3. Ensure that the total daily calorie intake remains under {kcal}.\n",
    "4. For each meal, explain each recipe step by step, using clear and concise sentences. Use bullet points or numbers to organize the steps.\n",
    "5. For each meal, specify the total calorie count.\n",
    "6. Provide a concise and descriptive title for each meal that encapsulates the primary ingredients and flavors.\n",
    "7. Separate the recipes by inserting 50 dashes (-).\n",
    "8. Your output should be in the {output_format} format.\n",
    "\n",
    "Before responding, ensure that you have strictly followed the instructions outlined above (points 1 to 8).\n",
    "'''\n",
    "output = generate_response(prompt)\n",
    "# print(output)\n",
    "display(HTML(output))"
   ]
  },
  {
   "cell_type": "markdown",
   "id": "abf2480b-0b93-45f2-af09-08ac250268e7",
   "metadata": {
    "jp-MarkdownHeadingCollapsed": true
   },
   "source": [
    "### #6 - Give Models Time to \"Think\""
   ]
  },
  {
   "cell_type": "code",
   "execution_count": 20,
   "id": "352a4fbf-ef77-4e91-b191-e7b7d3753ae6",
   "metadata": {},
   "outputs": [
    {
     "name": "stdout",
     "output_type": "stream",
     "text": [
      "**Earned Income:**\n",
      "\n",
      "* **Get a part-time job:** Look for entry-level positions in retail, food service, or customer service.\n",
      "* **Freelance your skills:** Offer your services in areas where you have expertise, such as writing, graphic design, or tutoring.\n",
      "* **Start a small business:** Sell products or offer services online or in your local community.\n",
      "\n",
      "**Loans and Advances:**\n",
      "\n",
      "* **Personal loan:** Apply for a loan from a bank, credit union, or online lender. Note that this may require a good credit score and stable income.\n",
      "* **Payday loan:** Consider this as a last resort due to high interest rates and short repayment terms.\n",
      "* **Cash advance on a credit card:** Be wary as this typically comes with high fees and interest charges.\n",
      "\n",
      "**Investments and Financial Planning:**\n",
      "\n",
      "* **Sell unused items:** Declutter your home and sell items like furniture, electronics, or collectibles.\n",
      "* **Start a high-yield savings account:** Look for accounts that offer higher interest rates on your savings.\n",
      "* **Invest in stocks or bonds:** Consider low-risk investments that have the potential to grow over time.\n",
      "\n",
      "**Other Methods:**\n",
      "\n",
      "* **Ask for financial assistance:** Reach out to family, friends, or social service organizations if you're facing financial hardship.\n",
      "* **Participate in paid surveys and focus groups:** Earn small amounts of money by sharing your opinions.\n",
      "* **Rent out a portion of your home:** Sublet a room or part of your house for additional income.\n",
      "\n",
      "**Tips:**\n",
      "\n",
      "* **Create a budget:** Track your income and expenses to identify areas where you can save money.\n",
      "* **Negotiate:** Ask for a raise at work or negotiate lower bills with service providers.\n",
      "* **Avoid impulsive spending:** Stick to a spending plan and only purchase essential items.\n",
      "* **Consider a side hustle:** Start a small side business that can generate additional income.\n",
      "* **Explore government assistance programs:** Look into programs like SNAP (Supplemental Nutrition Assistance Program) or Medicaid if you qualify.\n"
     ]
    }
   ],
   "source": [
    "prompt = 'What is the best way to get $1000?'\n",
    "output = generate_response(prompt)\n",
    "print(output)"
   ]
  },
  {
   "cell_type": "code",
   "execution_count": 21,
   "id": "70a3a8bf-2b47-402c-a40e-173d804a9bd3",
   "metadata": {},
   "outputs": [
    {
     "name": "stdout",
     "output_type": "stream",
     "text": [
      "**Option 1: Savings Account**\n",
      "\n",
      "* **Return:** $1,000 x 0.01 = $10\n",
      "* **Risk:** Relatively low (insured by FDIC)\n",
      "* **Pros:** Guaranteed return, low risk\n",
      "* **Cons:** Very low return\n",
      "\n",
      "**Option 2: Stock**\n",
      "\n",
      "* **Scenario 1: Stock increases in value by 10%**\n",
      "    * **Return:** $1,000 x (1 + 0.05 + 0.10) - $1,000 = $160\n",
      "* **Scenario 2: Stock decreases in value by 10%**\n",
      "    * **Return:** $1,000 x (1 + 0.05 - 0.10) - $1,000 = $40\n",
      "* **Expected Return:** (0.50 x $160) + (0.50 x $40) = $100\n",
      "* **Risk:** Higher than savings account, but still within an acceptable range\n",
      "* **Pros:** Potential for higher returns, dividend payments\n",
      "* **Cons:** Volatility, market risk\n",
      "\n",
      "**Option 3: Cryptocurrency**\n",
      "\n",
      "* **Scenario 1: Cryptocurrency doubles in value**\n",
      "    * **Return:** $1,000 x 2 - $1,000 = $1,000\n",
      "* **Scenario 2: Cryptocurrency halves in value**\n",
      "    * **Return:** $1,000 x 0.5 - $1,000 = -$500\n",
      "* **Expected Return:** (0.25 x $1,000) + (0.75 x -$500) = -$125\n",
      "* **Risk:** Very high\n",
      "* **Pros:** Potential for very high returns\n",
      "* **Cons:** Extreme volatility, lack of regulation\n",
      "\n",
      "**Decision:**\n",
      "\n",
      "Based on my risk tolerance and return expectations, I would choose **Option 2: Stock**.\n",
      "\n",
      "* The expected return on the stock is $100, which is significantly higher than the savings account ($10).\n",
      "* The risk associated with the stock is within an acceptable range, as the probability of a significant loss is only 50%.\n",
      "* The dividends provide a steady stream of income, which can help mitigate the risk of volatility.\n",
      "\n",
      "While the cryptocurrency has the potential for higher returns, the extreme volatility and lack of regulation make it an unacceptable risk for me.\n",
      "\n",
      "**Calculations:**\n",
      "\n",
      "* **Expected Return on Stock:**\n",
      "```\n",
      "(0.50 x $160) + (0.50 x $40) = $100\n",
      "```\n",
      "\n",
      "* **Expected Return on Cryptocurrency:**\n",
      "```\n",
      "(0.25 x $1,000) + (0.75 x -$500) = -$125\n",
      "```\n"
     ]
    }
   ],
   "source": [
    "prompt = '''\n",
    "Suppose you have $1000 that you want to invest for one year.\n",
    "You are looking for a high return on your investment, but you are also willing to take some risk.\n",
    "You have three options: \n",
    "- a savings account that pays 1% interest per year;\n",
    "- a stock that pays 5% dividend per year and has a 50% chance of increasing or decreasing in value by 10%;\n",
    "- a cryptocurrency that has a 25% chance of doubling or halving in value by the end of the year;\n",
    "\n",
    "Which option would you choose and why?\n",
    "Explain your reasoning and show your calculations in depth.\n",
    "'''\n",
    "output = generate_response(prompt)\n",
    "print(output)"
   ]
  },
  {
   "cell_type": "code",
   "execution_count": 22,
   "id": "52edb7ba-5853-44ff-bdb7-227959492d36",
   "metadata": {},
   "outputs": [
    {
     "name": "stdout",
     "output_type": "stream",
     "text": [
      "**Psychological Effects of Solitary Confinement on the Human Mind**\n",
      "\n",
      "Solitary confinement, defined as the segregation of an inmate from any meaningful human contact for extended periods, has severe psychological consequences that can linger long after release from isolation.\n",
      "\n",
      "**Cognitive Function**\n",
      "\n",
      "* **Impaired attention and concentration:** Isolation disrupts neural pathways involved in attention and executive function, leading to difficulties in maintaining focus and engaging in complex cognitive tasks.\n",
      "* **Memory deficits:** Prolonged isolation can damage the hippocampus, a brain region essential for memory formation. This impairment can affect both short-term and long-term memory retrieval.\n",
      "* **Cognitive inflexibility:** Solitary confinement reduces exposure to cognitive stimulation and feedback, leading to a loss of neurocognitive plasticity. Individuals may exhibit difficulty adapting to changing situations or learning new information.\n",
      "\n",
      "**Emotional Well-being**\n",
      "\n",
      "* **Anxiety and depression:** Isolation triggers a heightened state of vigilance and fear, as individuals are constantly on guard for potential threats. Prolonged isolation also disrupts hormonal regulation, contributing to chronic anxiety and depression.\n",
      "* **Hallucinations and delusions:** Extreme deprivation of sensory and social stimuli can lead to perceptual distortions, such as hallucinations and delusions. These experiences can further amplify psychological distress.\n",
      "* **Emotional dysregulation:** Solitary confinement can disrupt the development of emotional self-regulation skills. Individuals may experience overwhelming emotions that are difficult to control.\n",
      "\n",
      "**Social Interactions**\n",
      "\n",
      "* **Social withdrawal:** Isolation fosters a negative view of oneself and others, making it challenging to reintegrate into social environments upon release.\n",
      "* **Impaired interpersonal skills:** Prolonged lack of interaction damages the ability to engage in meaningful social connections. Individuals may exhibit difficulty understanding social cues, expressing emotions, and forming healthy relationships.\n",
      "* **Stigmatization:** The stigma associated with solitary confinement can further isolate individuals and hinder their social rehabilitation.\n",
      "\n",
      "**Other Adverse Effects**\n",
      "\n",
      "In addition to cognitive, emotional, and social impacts, solitary confinement can also lead to:\n",
      "\n",
      "* **Physical health problems:** Prolonged isolation increases risk of cardiovascular disease, stroke, and premature death.\n",
      "* **Self-harm and suicide:** Despair and hopelessness can drive individuals towards self-destructive behaviors as a way to cope with the overwhelming mental anguish.\n",
      "* **Long-term cognitive impairment:** Studies suggest that the effects of solitary confinement on cognitive function may persist after release, even after years of reintegration.\n",
      "\n",
      "**Conclusion**\n",
      "\n",
      "Solitary confinement is a cruel and inhumane practice that inflicts profound and lasting psychological harm. Its detrimental effects on cognitive function, emotional well-being, and social interactions underscore the urgent need to abolish this form of punishment and prioritize the rehabilitation and well-being of those convicted of crimes.\n"
     ]
    }
   ],
   "source": [
    "prompt = '''\n",
    "Please take a moment to consider this prompt and gather relevant information from your knowledge base.\n",
    "Once you have done so, please provide a detailed explanation of the psychological effects of\n",
    "solitary confinement on the human mind.\n",
    "Your response should address the impact of solitary confinement on cognitive function, emotional well-being,\n",
    "and social interactions.\n",
    "'''\n",
    "output = generate_response(prompt)\n",
    "print(output)"
   ]
  },
  {
   "cell_type": "markdown",
   "id": "43cf17ae-c316-4739-bcb3-b16338076f0c",
   "metadata": {
    "jp-MarkdownHeadingCollapsed": true
   },
   "source": [
    "### Other Tactics for Better Prompting"
   ]
  },
  {
   "cell_type": "markdown",
   "id": "90f5dfb4-0603-48cf-9ad5-8e3b58695dc7",
   "metadata": {
    "jp-MarkdownHeadingCollapsed": true
   },
   "source": [
    "#### 1. Reduce vague and ambiguous descriptions"
   ]
  },
  {
   "cell_type": "code",
   "execution_count": null,
   "id": "deee48c8-a9a1-4939-879a-754bfcb98742",
   "metadata": {},
   "outputs": [],
   "source": [
    "# not so good prompt\n",
    "prompt = 'Write a poem about something cool.'\n",
    "output = generate_response(prompt)\n",
    "print(output)\n",
    "\n",
    "print('\\n' + '*' * 100 + '\\n')\n",
    "\n",
    "# better prompt\n",
    "prompt = '''\n",
    "Write a haiku poem about the northern lights.\n",
    "A haiku is a type of poem that has three lines, with five, seven, and five syllables each.\n",
    "The northern lights are a natural phenomenon that creates colorful lights in the sky near the polar regions.\n",
    "'''\n",
    "output = generate_response(prompt)\n",
    "print(output)"
   ]
  },
  {
   "cell_type": "markdown",
   "id": "8404f922-3c81-4690-8745-8d5798f3cbea",
   "metadata": {},
   "source": [
    "#### 2. Don't user negative patterns (the word \"not\")"
   ]
  },
  {
   "cell_type": "code",
   "execution_count": null,
   "id": "65e76d01-50a8-42ac-a4f0-66660c730d1c",
   "metadata": {},
   "outputs": [],
   "source": [
    "# bad prompt\n",
    "prompt = '''\n",
    "Generate a short story based on the title: ```Moon Landing Challenges```.\n",
    "Don’t write a story that is longer than 500 words or that has more than 3 characters.\n",
    "'''\n",
    "\n",
    "# good prompt\n",
    "prompt = '''\n",
    "Generate a short story based on the title: ```Moon Landing Challenges```.\n",
    "Write a story that is less than 500 words and that has at most 3 characters.\n",
    "'''\n",
    "\n",
    "# bad prompt \n",
    "prompt = '''\n",
    "Generate a tweet containing a random joke.\n",
    "Don’t use any hashtags or mentions or bad words.\n",
    "'''\n",
    "\n",
    "# good prompt\n",
    "prompt = '''\n",
    "Generate a tweet containing a random joke.\n",
    "Use only plain text and express your opinion or emotion in a polite manner.\n",
    "'''"
   ]
  },
  {
   "cell_type": "markdown",
   "id": "477e94df-9e26-4fbe-a804-5a76f00225f7",
   "metadata": {},
   "source": [
    "#### 3. Avoid Hallucinations Using Guarding"
   ]
  },
  {
   "cell_type": "code",
   "execution_count": null,
   "id": "f096b3d2-46d1-401e-93f1-4be109acb852",
   "metadata": {},
   "outputs": [],
   "source": [
    "product = 'FlexiFit Wireless Earbuds by Zeno.'\n",
    "prompt = f'''\n",
    "Write an article about: {product}.\n",
    "'''\n",
    "output = generate_response(prompt)\n",
    "print(output)"
   ]
  },
  {
   "cell_type": "code",
   "execution_count": null,
   "id": "e46b43c2-a0ae-4591-813a-27ce8b6d4505",
   "metadata": {},
   "outputs": [],
   "source": [
    "prompt = f'''\n",
    "Write an article about ```{product}```.\n",
    "Write only facts about this product according sources such as Wikipedia, Google Scholar, Britannica or other \n",
    "relible public sources.\n",
    "Avoid speculative or fictional content.\n",
    "If you don't find information in reliable sources, just respond with \"I have no information about this.\"\n",
    "'''\n",
    "output = generate_response(prompt)\n",
    "print(output)"
   ]
  }
 ],
 "metadata": {
  "kernelspec": {
   "display_name": "Python 3 (ipykernel)",
   "language": "python",
   "name": "python3"
  },
  "language_info": {
   "codemirror_mode": {
    "name": "ipython",
    "version": 3
   },
   "file_extension": ".py",
   "mimetype": "text/x-python",
   "name": "python",
   "nbconvert_exporter": "python",
   "pygments_lexer": "ipython3",
   "version": "3.12.2"
  }
 },
 "nbformat": 4,
 "nbformat_minor": 5
}
