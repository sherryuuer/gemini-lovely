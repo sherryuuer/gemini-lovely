{
 "cells": [
  {
   "cell_type": "code",
   "execution_count": 1,
   "id": "ed3fb8fd-45c0-4fc0-9353-dee2c31f4039",
   "metadata": {},
   "outputs": [],
   "source": [
    "with open('api_key.txt', 'r') as file:\n",
    "    api_key = file.read().strip()"
   ]
  },
  {
   "cell_type": "code",
   "execution_count": 2,
   "id": "734701c3-5b0f-4d1a-b136-6708c6626b83",
   "metadata": {},
   "outputs": [],
   "source": [
    "import google.generativeai as genai\n",
    "genai.configure(api_key=api_key)"
   ]
  },
  {
   "cell_type": "markdown",
   "id": "c986e791-d8ea-402e-9ba5-983f38221313",
   "metadata": {},
   "source": [
    "## Renaming image with AI"
   ]
  },
  {
   "cell_type": "code",
   "execution_count": 9,
   "id": "d3c45f9f-b2a1-42fb-9c43-bdad4ed2871c",
   "metadata": {},
   "outputs": [],
   "source": [
    "import os\n",
    "from pathlib import Path\n",
    "from PIL import Image\n",
    "\n",
    "# creata image generator to save the memory\n",
    "def get_images(dir):\n",
    "    supported_extensions = ('.png', '.jpg', '.jpeg')\n",
    "    for root, subdirs, filenames in os.walk(dir):\n",
    "        for file in filenames:\n",
    "            if file.lower().endswith(supported_extensions):\n",
    "                absolute_path = os.path.join(root, file)\n",
    "                img = Image.open(absolute_path)\n",
    "                yield img, absolute_path"
   ]
  },
  {
   "cell_type": "code",
   "execution_count": 8,
   "id": "b83c1af2-04c6-45df-bd8a-fe58d46947dc",
   "metadata": {},
   "outputs": [],
   "source": [
    "# test\n",
    "# for img, absolute_path in get_images('.'):\n",
    "#     print(img, absolute_path)"
   ]
  },
  {
   "cell_type": "code",
   "execution_count": 14,
   "id": "86e59e33-a23d-4b51-80fa-ed6239482ca9",
   "metadata": {},
   "outputs": [],
   "source": [
    "model = genai.GenerativeModel('gemini-pro-vision')\n",
    "# prompt clearly explain renaming job\n",
    "prompt = '''\n",
    "Analyze the image in detail.\n",
    "Generate a descriptive image filename using only these rules:\n",
    "* Relevant key words describe the image, seperated by underscores.\n",
    "* Lowercase letters only.\n",
    "* No special characters.\n",
    "* Keep it short and accurate.\n",
    "* Response only with the image filename, no extensions.\n",
    "\n",
    "Example: cat_running_in_the_garden\n",
    "'''\n",
    "my_directory = 'images'"
   ]
  },
  {
   "cell_type": "code",
   "execution_count": 16,
   "id": "08d1c493-3f47-4a48-8586-8e8869c723d2",
   "metadata": {},
   "outputs": [
    {
     "name": "stdout",
     "output_type": "stream",
     "text": [
      "images/AF9BCB7D-4CDC-4599-ACE3-F22EF013A730_1_105_c.jpeg -> images/cat_looking_at_camera.jpeg\n",
      "****************************************************************************************************\n",
      "images/827E5A87-C7D9-4151-AF60-591AA419F6E4_1_105_c.jpeg -> images/gaming_setup_persona_5.jpeg\n",
      "****************************************************************************************************\n"
     ]
    }
   ],
   "source": [
    "for img, absolute_path in get_images(my_directory):\n",
    "    response = model.generate_content([prompt, img])\n",
    "    root, ext = os.path.splitext(absolute_path)  # split the path into path and '.extension'\n",
    "    new_filename = response.text.strip() + ext\n",
    "    base_dir = os.path.dirname(absolute_path)\n",
    "    new_filepath = base_dir + '/' + new_filename\n",
    "    \n",
    "    os.rename(absolute_path, new_filepath)\n",
    "    print(f'{absolute_path} -> {new_filepath}')\n",
    "    print('*' * 100)"
   ]
  },
  {
   "cell_type": "code",
   "execution_count": 17,
   "id": "da79027c-d6b9-46a0-9ad6-8fce791941fd",
   "metadata": {},
   "outputs": [],
   "source": [
    "# Gemini is so cute so cool!"
   ]
  },
  {
   "cell_type": "code",
   "execution_count": null,
   "id": "7bc98959-3d71-4f38-904a-821a861bc102",
   "metadata": {},
   "outputs": [],
   "source": []
  }
 ],
 "metadata": {
  "kernelspec": {
   "display_name": "Python 3 (ipykernel)",
   "language": "python",
   "name": "python3"
  },
  "language_info": {
   "codemirror_mode": {
    "name": "ipython",
    "version": 3
   },
   "file_extension": ".py",
   "mimetype": "text/x-python",
   "name": "python",
   "nbconvert_exporter": "python",
   "pygments_lexer": "ipython3",
   "version": "3.12.2"
  }
 },
 "nbformat": 4,
 "nbformat_minor": 5
}
